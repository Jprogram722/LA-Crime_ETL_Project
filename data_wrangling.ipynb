{
 "cells": [
  {
   "cell_type": "code",
   "execution_count": 214,
   "metadata": {},
   "outputs": [],
   "source": [
    "from pyspark.sql import SparkSession, Window\n",
    "from pyspark.sql import functions as sf\n",
    "from pyspark.conf import SparkConf\n",
    "\n",
    "conf = SparkConf()\n",
    "conf.set(\"spark.driver.extraClassPath\", \"./drivers/postgresql-42.7.2.jar\")\n",
    "conf.set(\"spark.sql.legacy.timeParserPolicy\", \"LEGACY\")\n",
    "\n",
    "spark = SparkSession.builder.appName(\"Data Wrangling\").config(conf=conf).getOrCreate()"
   ]
  },
  {
   "cell_type": "code",
   "execution_count": 215,
   "metadata": {},
   "outputs": [
    {
     "name": "stdout",
     "output_type": "stream",
     "text": [
      "+---------+--------------------+--------------------+--------+----+---------+-----------+--------+------+--------------------+--------------+--------+--------+------------+---------+--------------------+--------------+-----------+------+------------+--------+--------+--------+--------+--------------------+------------+-------+---------+\n",
      "|    DR_NO|           Date Rptd|            DATE OCC|TIME OCC|AREA|AREA NAME|Rpt Dist No|Part 1-2|Crm Cd|         Crm Cd Desc|       Mocodes|Vict Age|Vict Sex|Vict Descent|Premis Cd|         Premis Desc|Weapon Used Cd|Weapon Desc|Status| Status Desc|Crm Cd 1|Crm Cd 2|Crm Cd 3|Crm Cd 4|            LOCATION|Cross Street|    LAT|      LON|\n",
      "+---------+--------------------+--------------------+--------+----+---------+-----------+--------+------+--------------------+--------------+--------+--------+------------+---------+--------------------+--------------+-----------+------+------------+--------+--------+--------+--------+--------------------+------------+-------+---------+\n",
      "|190326475|03/01/2020 12:00:...|03/01/2020 12:00:...|    2130|   7| Wilshire|        784|       1|   510|    VEHICLE - STOLEN|          NULL|       0|       M|           O|      101|              STREET|          NULL|       NULL|    AA|Adult Arrest|     510|     998|    NULL|    NULL|1900 S  LONGWOOD ...|        NULL|34.0375|-118.3506|\n",
      "|200106753|02/09/2020 12:00:...|02/08/2020 12:00:...|    1800|   1|  Central|        182|       1|   330|BURGLARY FROM VEH...|1822 1402 0344|      47|       M|           O|      128|BUS STOP/LAYOVER ...|          NULL|       NULL|    IC| Invest Cont|     330|     998|    NULL|    NULL|1000 S  FLOWER   ...|        NULL|34.0444|-118.2628|\n",
      "|200320258|11/11/2020 12:00:...|11/04/2020 12:00:...|    1700|   3|Southwest|        356|       1|   480|       BIKE - STOLEN|     0344 1251|      19|       X|           X|      502|MULTI-UNIT DWELLI...|          NULL|       NULL|    IC| Invest Cont|     480|    NULL|    NULL|    NULL|1400 W  37TH     ...|        NULL| 34.021|-118.3002|\n",
      "+---------+--------------------+--------------------+--------+----+---------+-----------+--------+------+--------------------+--------------+--------+--------+------------+---------+--------------------+--------------+-----------+------+------------+--------+--------+--------+--------+--------------------+------------+-------+---------+\n",
      "only showing top 3 rows\n",
      "\n"
     ]
    }
   ],
   "source": [
    "df = spark.read.csv(\"./data/LACrimeData.csv\", header=True, inferSchema=True)\n",
    "df.show(n=3)"
   ]
  },
  {
   "cell_type": "code",
   "execution_count": 216,
   "metadata": {},
   "outputs": [
    {
     "name": "stdout",
     "output_type": "stream",
     "text": [
      "root\n",
      " |-- DR_NO: integer (nullable = true)\n",
      " |-- Date Rptd: string (nullable = true)\n",
      " |-- DATE OCC: string (nullable = true)\n",
      " |-- TIME OCC: integer (nullable = true)\n",
      " |-- AREA: integer (nullable = true)\n",
      " |-- AREA NAME: string (nullable = true)\n",
      " |-- Rpt Dist No: integer (nullable = true)\n",
      " |-- Part 1-2: integer (nullable = true)\n",
      " |-- Crm Cd: integer (nullable = true)\n",
      " |-- Crm Cd Desc: string (nullable = true)\n",
      " |-- Mocodes: string (nullable = true)\n",
      " |-- Vict Age: integer (nullable = true)\n",
      " |-- Vict Sex: string (nullable = true)\n",
      " |-- Vict Descent: string (nullable = true)\n",
      " |-- Premis Cd: integer (nullable = true)\n",
      " |-- Premis Desc: string (nullable = true)\n",
      " |-- Weapon Used Cd: integer (nullable = true)\n",
      " |-- Weapon Desc: string (nullable = true)\n",
      " |-- Status: string (nullable = true)\n",
      " |-- Status Desc: string (nullable = true)\n",
      " |-- Crm Cd 1: integer (nullable = true)\n",
      " |-- Crm Cd 2: integer (nullable = true)\n",
      " |-- Crm Cd 3: integer (nullable = true)\n",
      " |-- Crm Cd 4: integer (nullable = true)\n",
      " |-- LOCATION: string (nullable = true)\n",
      " |-- Cross Street: string (nullable = true)\n",
      " |-- LAT: double (nullable = true)\n",
      " |-- LON: double (nullable = true)\n",
      "\n"
     ]
    }
   ],
   "source": [
    "df.printSchema()"
   ]
  },
  {
   "cell_type": "code",
   "execution_count": 217,
   "metadata": {},
   "outputs": [
    {
     "data": {
      "text/plain": [
       "['DR_NO',\n",
       " 'Date Rptd',\n",
       " 'DATE OCC',\n",
       " 'TIME OCC',\n",
       " 'AREA',\n",
       " 'AREA NAME',\n",
       " 'Rpt Dist No',\n",
       " 'Part 1-2',\n",
       " 'Crm Cd',\n",
       " 'Crm Cd Desc',\n",
       " 'Mocodes',\n",
       " 'Vict Age',\n",
       " 'Vict Sex',\n",
       " 'Vict Descent',\n",
       " 'Premis Cd',\n",
       " 'Premis Desc',\n",
       " 'Weapon Used Cd',\n",
       " 'Weapon Desc',\n",
       " 'Status',\n",
       " 'Status Desc',\n",
       " 'Crm Cd 1',\n",
       " 'Crm Cd 2',\n",
       " 'Crm Cd 3',\n",
       " 'Crm Cd 4',\n",
       " 'LOCATION',\n",
       " 'Cross Street',\n",
       " 'LAT',\n",
       " 'LON']"
      ]
     },
     "execution_count": 217,
     "metadata": {},
     "output_type": "execute_result"
    }
   ],
   "source": [
    "df.columns"
   ]
  },
  {
   "cell_type": "code",
   "execution_count": 218,
   "metadata": {},
   "outputs": [],
   "source": [
    "# drop the column part 1-2\n",
    "df = df.drop(\"Part 1-2\", \"Mocodes\", \"Rpt Dist No\")"
   ]
  },
  {
   "cell_type": "code",
   "execution_count": 219,
   "metadata": {},
   "outputs": [],
   "source": [
    "# change the time occ column to a string value\n",
    "\n",
    "df = df.withColumn(\"TIME OCC\", sf.col(\"TIME OCC\").cast(\"string\"))"
   ]
  },
  {
   "cell_type": "code",
   "execution_count": 220,
   "metadata": {},
   "outputs": [
    {
     "name": "stdout",
     "output_type": "stream",
     "text": [
      "+---------+--------------------+--------------------+--------+----+----------+------+--------------------+--------+--------+------------+---------+--------------------+--------------+-----------+------+------------+--------+--------+--------+--------+--------------------+------------+-------+---------+\n",
      "|    DR_NO|           Date Rptd|            DATE OCC|TIME OCC|AREA| AREA NAME|Crm Cd|         Crm Cd Desc|Vict Age|Vict Sex|Vict Descent|Premis Cd|         Premis Desc|Weapon Used Cd|Weapon Desc|Status| Status Desc|Crm Cd 1|Crm Cd 2|Crm Cd 3|Crm Cd 4|            LOCATION|Cross Street|    LAT|      LON|\n",
      "+---------+--------------------+--------------------+--------+----+----------+------+--------------------+--------+--------+------------+---------+--------------------+--------------+-----------+------+------------+--------+--------+--------+--------+--------------------+------------+-------+---------+\n",
      "|190326475|03/01/2020 12:00:...|03/01/2020 12:00:...|    2130|   7|  Wilshire|   510|    VEHICLE - STOLEN|       0|       M|           O|      101|              STREET|          NULL|       NULL|    AA|Adult Arrest|     510|     998|    NULL|    NULL|1900 S  LONGWOOD ...|        NULL|34.0375|-118.3506|\n",
      "|200106753|02/09/2020 12:00:...|02/08/2020 12:00:...|    1800|   1|   Central|   330|BURGLARY FROM VEH...|      47|       M|           O|      128|BUS STOP/LAYOVER ...|          NULL|       NULL|    IC| Invest Cont|     330|     998|    NULL|    NULL|1000 S  FLOWER   ...|        NULL|34.0444|-118.2628|\n",
      "|200320258|11/11/2020 12:00:...|11/04/2020 12:00:...|    1700|   3| Southwest|   480|       BIKE - STOLEN|      19|       X|           X|      502|MULTI-UNIT DWELLI...|          NULL|       NULL|    IC| Invest Cont|     480|    NULL|    NULL|    NULL|1400 W  37TH     ...|        NULL| 34.021|-118.3002|\n",
      "|200907217|05/10/2023 12:00:...|03/10/2020 12:00:...|    2037|   9|  Van Nuys|   343|SHOPLIFTING-GRAND...|      19|       M|           O|      405|      CLOTHING STORE|          NULL|       NULL|    IC| Invest Cont|     343|    NULL|    NULL|    NULL|14000    RIVERSID...|        NULL|34.1576|-118.4387|\n",
      "|200412582|09/09/2020 12:00:...|09/09/2020 12:00:...|     630|   4|Hollenbeck|   510|    VEHICLE - STOLEN|       0|    NULL|        NULL|      101|              STREET|          NULL|       NULL|    IC| Invest Cont|     510|    NULL|    NULL|    NULL|    200 E  AVENUE 28|        NULL| 34.082| -118.213|\n",
      "+---------+--------------------+--------------------+--------+----+----------+------+--------------------+--------+--------+------------+---------+--------------------+--------------+-----------+------+------------+--------+--------+--------+--------+--------------------+------------+-------+---------+\n",
      "only showing top 5 rows\n",
      "\n"
     ]
    }
   ],
   "source": [
    "df.show(n=5)"
   ]
  },
  {
   "cell_type": "code",
   "execution_count": 221,
   "metadata": {},
   "outputs": [],
   "source": [
    "# concatinate the colon in between the hour and minute\n",
    "\n",
    "df = df.withColumn(\n",
    "    \"TIME OCC\", \n",
    "    sf.col(\"TIME OCC\").cast(\"string\")\n",
    ").withColumn(\n",
    "    \"TIME OCC\", \n",
    "    sf.concat(\n",
    "        sf.substring(\"TIME OCC\", 0, 2),\n",
    "        sf.lit(\":\"),\n",
    "        sf.substring(\"TIME OCC\", 3, 2),\n",
    "    ),\n",
    ")"
   ]
  },
  {
   "cell_type": "code",
   "execution_count": 222,
   "metadata": {},
   "outputs": [],
   "source": [
    "# clean the times that they will fit into the database\n",
    "\n",
    "df = df.withColumn(\n",
    "    \"TIME OCC\",\n",
    "    sf.to_timestamp(\"TIME OCC\", \"HH:mm\")\n",
    ").withColumn(\n",
    "    \"TIME OCC\",\n",
    "    sf.col(\"TIME OCC\").cast(\"string\")\n",
    ").na.fill(value=\"1970-01-01 00:00:00\", subset=\"TIME OCC\").withColumn(\n",
    "    \"Date Rptd\",\n",
    "    sf.substring(\"Date Rptd\", 0, 10)\n",
    ").withColumn(\n",
    "    \"DATE AND TIME OCC\",\n",
    "    sf.concat(\n",
    "        sf.substring(\"DATE OCC\", 0, 10),\n",
    "        sf.substring(\"TIME OCC\", 11, 9)\n",
    "    )\n",
    ").drop(\"DATE OCC\", \"TIME OCC\")"
   ]
  },
  {
   "cell_type": "code",
   "execution_count": 223,
   "metadata": {},
   "outputs": [],
   "source": [
    "# fill the null values in the specified col with X according to the data dictionary\n",
    "df = df.na.fill(value=\"X\", subset=\"Vict Sex\").na.fill(value=\"X\", subset=\"Vict Descent\")"
   ]
  },
  {
   "cell_type": "code",
   "execution_count": 224,
   "metadata": {},
   "outputs": [],
   "source": [
    "df = df.withColumn(\n",
    "    \"location_name\",\n",
    "    sf.regexp_replace(\n",
    "        sf.regexp_replace(df.LOCATION, r'\\s+', \" \"),\n",
    "        r'PLACE',\n",
    "        \"PL\"\n",
    "    ),\n",
    ") \\\n",
    ".orderBy(sf.asc(\"location_name\"))"
   ]
  },
  {
   "cell_type": "code",
   "execution_count": 225,
   "metadata": {},
   "outputs": [],
   "source": [
    "w = Window.orderBy(df[\"location_name\"])\n",
    "df = df.withColumn(\"location_id_pk\", sf.rank().over(w)).drop(\"LOCATION\")"
   ]
  },
  {
   "cell_type": "code",
   "execution_count": 226,
   "metadata": {},
   "outputs": [],
   "source": [
    "# connect to the database\n",
    "\n",
    "properties = {\n",
    "    \"user\": \"postgres\",\n",
    "    \"password\": \"sopro722!\",\n",
    "    \"driver\": \"org.postgresql.Driver\"\n",
    "}\n",
    "\n",
    "url = \"jdbc:postgresql://localhost:5432/lacrime_db\"\n"
   ]
  },
  {
   "cell_type": "code",
   "execution_count": 227,
   "metadata": {},
   "outputs": [],
   "source": [
    "def insert_data(df, url: str, table: str, properties: dict[str]):\n",
    "    df.repartition(4) \\\n",
    "    .write \\\n",
    "    .mode(\"append\") \\\n",
    "    .format(\"jdbc\") \\\n",
    "    .option(\"url\", url) \\\n",
    "    .option(\"dbtable\", table) \\\n",
    "    .option(\"user\", properties[\"user\"]) \\\n",
    "    .option(\"password\", properties[\"password\"]) \\\n",
    "    .save()"
   ]
  },
  {
   "cell_type": "code",
   "execution_count": 228,
   "metadata": {},
   "outputs": [],
   "source": [
    "# insert weapon into the database\n",
    "\n",
    "df_weapons = df.select(\n",
    "    sf.col(\"Weapon Used Cd\").alias(\"weapon_id_pk\"),\n",
    "    sf.col(\"Weapon Desc\").alias(\"weapon\")\n",
    ") \\\n",
    ".filter(df[\"Weapon Used Cd\"].isNotNull()) \\\n",
    ".dropDuplicates() \\\n",
    ".sort(sf.asc(\"weapon_id_pk\"))"
   ]
  },
  {
   "cell_type": "code",
   "execution_count": 229,
   "metadata": {},
   "outputs": [
    {
     "name": "stdout",
     "output_type": "stream",
     "text": [
      "Saved to Database\n"
     ]
    }
   ],
   "source": [
    "insert_data(df_weapons, url, \"weapon\", properties)\n",
    "    \n",
    "print(\"Saved to Database\")"
   ]
  },
  {
   "cell_type": "code",
   "execution_count": 230,
   "metadata": {},
   "outputs": [],
   "source": [
    "df_area = df.select(\n",
    "    sf.col(\"AREA\").alias(\"area_id_pk\"),\n",
    "    sf.col(\"AREA NAME\").alias(\"area_name\")\n",
    ") \\\n",
    ".filter(df[\"AREA\"].isNotNull()) \\\n",
    ".dropDuplicates() \\\n",
    ".orderBy(sf.asc(\"area_id_pk\"))"
   ]
  },
  {
   "cell_type": "code",
   "execution_count": 231,
   "metadata": {},
   "outputs": [
    {
     "name": "stdout",
     "output_type": "stream",
     "text": [
      "Saved to Database\n"
     ]
    }
   ],
   "source": [
    "insert_data(df_area, url, \"area\", properties)\n",
    "\n",
    "print(\"Saved to Database\")"
   ]
  },
  {
   "cell_type": "code",
   "execution_count": 232,
   "metadata": {},
   "outputs": [],
   "source": [
    "# input the status data into the status table\n",
    "\n",
    "df_status = df.select(\n",
    "    sf.col(\"Status\").alias(\"status_code\"),\n",
    "    sf.col(\"Status Desc\").alias(\"status_desc\")\n",
    ") \\\n",
    ".na.drop(subset=\"status_code\") \\\n",
    ".dropDuplicates() \\\n",
    ".orderBy(sf.asc(\"status_code\")) \n",
    "\n"
   ]
  },
  {
   "cell_type": "code",
   "execution_count": 233,
   "metadata": {},
   "outputs": [
    {
     "name": "stdout",
     "output_type": "stream",
     "text": [
      "+-----------+------------+\n",
      "|status_code| status_desc|\n",
      "+-----------+------------+\n",
      "|         AA|Adult Arrest|\n",
      "|         AO| Adult Other|\n",
      "|         CC|         UNK|\n",
      "|         IC| Invest Cont|\n",
      "|         JA|  Juv Arrest|\n",
      "|         JO|   Juv Other|\n",
      "+-----------+------------+\n",
      "\n"
     ]
    }
   ],
   "source": [
    "df_status.show()"
   ]
  },
  {
   "cell_type": "code",
   "execution_count": 234,
   "metadata": {},
   "outputs": [],
   "source": [
    "insert_data(df_status, url, \"status\", properties)"
   ]
  },
  {
   "cell_type": "code",
   "execution_count": 235,
   "metadata": {},
   "outputs": [],
   "source": [
    "# input the status data into the status table\n",
    "\n",
    "df_premisis = df.select(\n",
    "    sf.col(\"Premis Cd\").alias(\"premisis_id_pk\"),\n",
    "    sf.col(\"Premis Desc\").alias(\"premisis_desc\")\n",
    ") \\\n",
    ".filter(df[\"Premis Cd\"].isNotNull()) \\\n",
    ".dropDuplicates() \\\n",
    ".orderBy(sf.asc(\"premisis_id_pk\"))"
   ]
  },
  {
   "cell_type": "code",
   "execution_count": 236,
   "metadata": {},
   "outputs": [],
   "source": [
    "insert_data(df_premisis, url, \"premisis\", properties)"
   ]
  },
  {
   "cell_type": "code",
   "execution_count": 237,
   "metadata": {},
   "outputs": [],
   "source": [
    "df_crime = df.select(\n",
    "    sf.col(\"Crm Cd\").alias(\"crime_id_pk\"),\n",
    "    sf.col(\"Crm Cd Desc\").alias(\"crime_desc\")\n",
    ") \\\n",
    ".filter(df[\"Crm Cd\"].isNotNull()) \\\n",
    ".dropDuplicates(subset=[\"crime_id_pk\"]) \\\n",
    ".orderBy(sf.asc(\"crime_id_pk\"))"
   ]
  },
  {
   "cell_type": "code",
   "execution_count": 238,
   "metadata": {},
   "outputs": [],
   "source": [
    "insert_data(df_crime, url, \"crime\", properties)"
   ]
  },
  {
   "cell_type": "code",
   "execution_count": 239,
   "metadata": {},
   "outputs": [],
   "source": [
    "df_location = df.select(\n",
    "    sf.col(\"location_id_pk\"),\n",
    "    sf.col(\"location_name\")\n",
    ") \\\n",
    ".na.drop(subset=\"location_name\") \\\n",
    ".dropDuplicates(subset=[\"location_id_pk\"]) \\\n",
    ".orderBy(sf.asc(\"location_name\"))\n"
   ]
  },
  {
   "cell_type": "code",
   "execution_count": 240,
   "metadata": {},
   "outputs": [
    {
     "name": "stdout",
     "output_type": "stream",
     "text": [
      "+--------------+-------------+\n",
      "|location_id_pk|location_name|\n",
      "+--------------+-------------+\n",
      "+--------------+-------------+\n",
      "\n"
     ]
    }
   ],
   "source": [
    "df_location.filter(df_location[\"location_name\"].isNull()) \\\n",
    ".show()"
   ]
  },
  {
   "cell_type": "code",
   "execution_count": 241,
   "metadata": {},
   "outputs": [],
   "source": [
    "insert_data(df_location, url, \"location\", properties)"
   ]
  },
  {
   "cell_type": "code",
   "execution_count": 242,
   "metadata": {},
   "outputs": [],
   "source": [
    "df_report = df.select(\n",
    "    sf.col(\"DR_NO\").alias(\"report_id_pk\"),\n",
    "    sf.to_date(\"Date Rptd\", \"MM/dd/yyyy\").alias(\"date_reported\"),\n",
    "    sf.to_timestamp(\"DATE AND TIME OCC\", \"MM/dd/yyyy HH:mm:ss\").alias(\"date_occured\"),\n",
    "    sf.col(\"Vict Age\").alias(\"victim_age\"),\n",
    "    sf.col(\"Vict Sex\").alias(\"victim_sex\"),\n",
    "    sf.col(\"Vict Descent\").alias(\"victim_decent\"),\n",
    "    sf.col(\"AREA\").alias(\"area_id_fk\"),\n",
    "    sf.col(\"location_id_pk\").alias(\"location_id_fk\"),\n",
    "    sf.col(\"Premis Cd\").alias(\"premisis_id_fk\"),\n",
    "    sf.col(\"Weapon Used Cd\").alias(\"weapon_id_fk\"),\n",
    "    sf.col(\"Status\").alias(\"status_code\"),\n",
    "    sf.col(\"LAT\").alias(\"latitude\"),\n",
    "    sf.col(\"LON\").alias(\"longitude\"),\n",
    ") \\\n",
    ".filter(df[\"DR_NO\"].isNotNull()) \\\n",
    ".dropDuplicates(subset=[\"report_id_pk\"]) \\\n",
    ".repartition(4)"
   ]
  },
  {
   "cell_type": "code",
   "execution_count": 243,
   "metadata": {},
   "outputs": [],
   "source": [
    "df_report.write \\\n",
    "    .mode(\"append\") \\\n",
    "    .format(\"jdbc\") \\\n",
    "    .option(\"url\", url) \\\n",
    "    .option(\"dbtable\", \"report\") \\\n",
    "    .option(\"user\", properties[\"user\"]) \\\n",
    "    .option(\"password\", properties[\"password\"]) \\\n",
    "    .save()"
   ]
  },
  {
   "cell_type": "code",
   "execution_count": 244,
   "metadata": {},
   "outputs": [],
   "source": [
    "df_crime_report = df.dropDuplicates(subset=[\"DR_NO\"]) \\\n",
    ".withColumn('crime_id_fk', sf.explode(sf.array(\"Crm Cd 1\", \"Crm Cd 2\", \"Crm Cd 3\", \"Crm Cd 4\"))) \\\n",
    ".select(\n",
    "    sf.col(\"DR_NO\").alias(\"report_id_fk\"),\n",
    "    sf.col(\"crime_id_fk\")\n",
    ") \\\n",
    ".na.drop(subset=[\"crime_id_fk\"])"
   ]
  },
  {
   "cell_type": "code",
   "execution_count": 245,
   "metadata": {},
   "outputs": [],
   "source": [
    "df_crime_report = df_crime_report.join(df_crime, df_crime_report[\"crime_id_fk\"] == df_crime[\"crime_id_pk\"], \"left\") \\\n",
    ".filter(\"crime_id_pk IS NOT NULL\") \\\n",
    ".drop(\"crime_id_pk\", \"crime_desc\")"
   ]
  },
  {
   "cell_type": "code",
   "execution_count": 246,
   "metadata": {},
   "outputs": [],
   "source": [
    "insert_data(df_crime_report, url, \"crime_report\", properties)"
   ]
  }
 ],
 "metadata": {
  "kernelspec": {
   "display_name": "venv",
   "language": "python",
   "name": "python3"
  },
  "language_info": {
   "codemirror_mode": {
    "name": "ipython",
    "version": 3
   },
   "file_extension": ".py",
   "mimetype": "text/x-python",
   "name": "python",
   "nbconvert_exporter": "python",
   "pygments_lexer": "ipython3",
   "version": "3.11.6"
  }
 },
 "nbformat": 4,
 "nbformat_minor": 2
}
