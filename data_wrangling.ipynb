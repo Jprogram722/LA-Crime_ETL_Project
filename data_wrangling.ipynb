{
 "cells": [
  {
   "cell_type": "code",
   "execution_count": 1,
   "metadata": {},
   "outputs": [],
   "source": [
    "from pyspark.sql import SparkSession, Window\n",
    "from pyspark.sql import functions as sf\n",
    "from pyspark.conf import SparkConf\n",
    "\n",
    "conf = SparkConf()\n",
    "conf.set(\"spark.driver.extraClassPath\", \"./drivers/postgresql-42.7.2.jar\")\n",
    "conf.set(\"spark.sql.legacy.timeParserPolicy\", \"LEGACY\")\n",
    "\n",
    "spark = SparkSession.builder.appName(\"Data Wrangling\").config(conf=conf).getOrCreate()"
   ]
  },
  {
   "cell_type": "code",
   "execution_count": 2,
   "metadata": {},
   "outputs": [
    {
     "name": "stdout",
     "output_type": "stream",
     "text": [
      "+---------+--------------------+--------------------+--------+----+---------+-----------+--------+------+--------------------+--------------+--------+--------+------------+---------+--------------------+--------------+-----------+------+------------+--------+--------+--------+--------+--------------------+------------+-------+---------+\n",
      "|    DR_NO|           Date Rptd|            DATE OCC|TIME OCC|AREA|AREA NAME|Rpt Dist No|Part 1-2|Crm Cd|         Crm Cd Desc|       Mocodes|Vict Age|Vict Sex|Vict Descent|Premis Cd|         Premis Desc|Weapon Used Cd|Weapon Desc|Status| Status Desc|Crm Cd 1|Crm Cd 2|Crm Cd 3|Crm Cd 4|            LOCATION|Cross Street|    LAT|      LON|\n",
      "+---------+--------------------+--------------------+--------+----+---------+-----------+--------+------+--------------------+--------------+--------+--------+------------+---------+--------------------+--------------+-----------+------+------------+--------+--------+--------+--------+--------------------+------------+-------+---------+\n",
      "|190326475|03/01/2020 12:00:...|03/01/2020 12:00:...|    2130|   7| Wilshire|        784|       1|   510|    VEHICLE - STOLEN|          NULL|       0|       M|           O|      101|              STREET|          NULL|       NULL|    AA|Adult Arrest|     510|     998|    NULL|    NULL|1900 S  LONGWOOD ...|        NULL|34.0375|-118.3506|\n",
      "|200106753|02/09/2020 12:00:...|02/08/2020 12:00:...|    1800|   1|  Central|        182|       1|   330|BURGLARY FROM VEH...|1822 1402 0344|      47|       M|           O|      128|BUS STOP/LAYOVER ...|          NULL|       NULL|    IC| Invest Cont|     330|     998|    NULL|    NULL|1000 S  FLOWER   ...|        NULL|34.0444|-118.2628|\n",
      "|200320258|11/11/2020 12:00:...|11/04/2020 12:00:...|    1700|   3|Southwest|        356|       1|   480|       BIKE - STOLEN|     0344 1251|      19|       X|           X|      502|MULTI-UNIT DWELLI...|          NULL|       NULL|    IC| Invest Cont|     480|    NULL|    NULL|    NULL|1400 W  37TH     ...|        NULL| 34.021|-118.3002|\n",
      "+---------+--------------------+--------------------+--------+----+---------+-----------+--------+------+--------------------+--------------+--------+--------+------------+---------+--------------------+--------------+-----------+------+------------+--------+--------+--------+--------+--------------------+------------+-------+---------+\n",
      "only showing top 3 rows\n",
      "\n"
     ]
    }
   ],
   "source": [
    "df = spark.read.csv(\"./data/LACrimeData.csv\", header=True, inferSchema=True)\n",
    "df.show(n=3)"
   ]
  },
  {
   "cell_type": "code",
   "execution_count": 3,
   "metadata": {},
   "outputs": [
    {
     "name": "stdout",
     "output_type": "stream",
     "text": [
      "root\n",
      " |-- DR_NO: integer (nullable = true)\n",
      " |-- Date Rptd: string (nullable = true)\n",
      " |-- DATE OCC: string (nullable = true)\n",
      " |-- TIME OCC: integer (nullable = true)\n",
      " |-- AREA: integer (nullable = true)\n",
      " |-- AREA NAME: string (nullable = true)\n",
      " |-- Rpt Dist No: integer (nullable = true)\n",
      " |-- Part 1-2: integer (nullable = true)\n",
      " |-- Crm Cd: integer (nullable = true)\n",
      " |-- Crm Cd Desc: string (nullable = true)\n",
      " |-- Mocodes: string (nullable = true)\n",
      " |-- Vict Age: integer (nullable = true)\n",
      " |-- Vict Sex: string (nullable = true)\n",
      " |-- Vict Descent: string (nullable = true)\n",
      " |-- Premis Cd: integer (nullable = true)\n",
      " |-- Premis Desc: string (nullable = true)\n",
      " |-- Weapon Used Cd: integer (nullable = true)\n",
      " |-- Weapon Desc: string (nullable = true)\n",
      " |-- Status: string (nullable = true)\n",
      " |-- Status Desc: string (nullable = true)\n",
      " |-- Crm Cd 1: integer (nullable = true)\n",
      " |-- Crm Cd 2: integer (nullable = true)\n",
      " |-- Crm Cd 3: integer (nullable = true)\n",
      " |-- Crm Cd 4: integer (nullable = true)\n",
      " |-- LOCATION: string (nullable = true)\n",
      " |-- Cross Street: string (nullable = true)\n",
      " |-- LAT: double (nullable = true)\n",
      " |-- LON: double (nullable = true)\n",
      "\n"
     ]
    }
   ],
   "source": [
    "df.printSchema()"
   ]
  },
  {
   "cell_type": "code",
   "execution_count": 4,
   "metadata": {},
   "outputs": [
    {
     "data": {
      "text/plain": [
       "['DR_NO',\n",
       " 'Date Rptd',\n",
       " 'DATE OCC',\n",
       " 'TIME OCC',\n",
       " 'AREA',\n",
       " 'AREA NAME',\n",
       " 'Rpt Dist No',\n",
       " 'Part 1-2',\n",
       " 'Crm Cd',\n",
       " 'Crm Cd Desc',\n",
       " 'Mocodes',\n",
       " 'Vict Age',\n",
       " 'Vict Sex',\n",
       " 'Vict Descent',\n",
       " 'Premis Cd',\n",
       " 'Premis Desc',\n",
       " 'Weapon Used Cd',\n",
       " 'Weapon Desc',\n",
       " 'Status',\n",
       " 'Status Desc',\n",
       " 'Crm Cd 1',\n",
       " 'Crm Cd 2',\n",
       " 'Crm Cd 3',\n",
       " 'Crm Cd 4',\n",
       " 'LOCATION',\n",
       " 'Cross Street',\n",
       " 'LAT',\n",
       " 'LON']"
      ]
     },
     "execution_count": 4,
     "metadata": {},
     "output_type": "execute_result"
    }
   ],
   "source": [
    "df.columns"
   ]
  },
  {
   "cell_type": "code",
   "execution_count": 5,
   "metadata": {},
   "outputs": [],
   "source": [
    "# drop the column part 1-2\n",
    "df = df.drop(\"Part 1-2\", \"Mocodes\", \"Rpt Dist No\")"
   ]
  },
  {
   "cell_type": "code",
   "execution_count": 6,
   "metadata": {},
   "outputs": [],
   "source": [
    "# change the time occ column to a string value\n",
    "\n",
    "df = df.withColumn(\"TIME OCC\", sf.col(\"TIME OCC\").cast(\"string\"))"
   ]
  },
  {
   "cell_type": "code",
   "execution_count": 7,
   "metadata": {},
   "outputs": [],
   "source": [
    "# concatinate the colon in between the hour and minute\n",
    "\n",
    "df = df.withColumn(\n",
    "    \"TIME OCC\", \n",
    "    sf.col(\"TIME OCC\").cast(\"string\")\n",
    ").withColumn(\n",
    "    \"TIME OCC\", \n",
    "    sf.concat(\n",
    "        sf.substring(\"TIME OCC\", 0, 2),\n",
    "        sf.lit(\":\"),\n",
    "        sf.substring(\"TIME OCC\", 3, 2),\n",
    "    ),\n",
    ")"
   ]
  },
  {
   "cell_type": "code",
   "execution_count": 8,
   "metadata": {},
   "outputs": [],
   "source": [
    "# clean the times that they will fit into the database\n",
    "\n",
    "df = df.withColumn(\n",
    "    \"TIME OCC\",\n",
    "    sf.to_timestamp(\"TIME OCC\", \"HH:mm\")\n",
    ").withColumn(\n",
    "    \"TIME OCC\",\n",
    "    sf.col(\"TIME OCC\").cast(\"string\")\n",
    ").na.fill(value=\"1970-01-01 00:00:00\", subset=\"TIME OCC\").withColumn(\n",
    "    \"Date Rptd\",\n",
    "    sf.substring(\"Date Rptd\", 0, 10)\n",
    ").withColumn(\n",
    "    \"DATE AND TIME OCC\",\n",
    "    sf.concat(\n",
    "        sf.substring(\"DATE OCC\", 0, 10),\n",
    "        sf.substring(\"TIME OCC\", 11, 9)\n",
    "    )\n",
    ").drop(\"DATE OCC\", \"TIME OCC\")"
   ]
  },
  {
   "cell_type": "code",
   "execution_count": 9,
   "metadata": {},
   "outputs": [],
   "source": [
    "# fill the null values in the specified col with X according to the data dictionary\n",
    "df = df.na.fill(value=\"X\", subset=\"Vict Sex\").na.fill(value=\"X\", subset=\"Vict Descent\")"
   ]
  },
  {
   "cell_type": "code",
   "execution_count": 10,
   "metadata": {},
   "outputs": [],
   "source": [
    "df = df.withColumn(\n",
    "    \"location_name\",\n",
    "    sf.regexp_replace(\n",
    "        sf.regexp_replace(df.LOCATION, r'\\s+', \" \"),\n",
    "        r'PLACE',\n",
    "        \"PL\"\n",
    "    ),\n",
    ") \\\n",
    ".orderBy(sf.asc(\"location_name\"))"
   ]
  },
  {
   "cell_type": "code",
   "execution_count": 25,
   "metadata": {},
   "outputs": [
    {
     "name": "stdout",
     "output_type": "stream",
     "text": [
      "+-------------+\n",
      "|location_name|\n",
      "+-------------+\n",
      "|      00 17TH|\n",
      "|   00 17TH AV|\n",
      "|   00 17TH AV|\n",
      "|   00 17TH AV|\n",
      "|   00 17TH AV|\n",
      "|   00 17TH AV|\n",
      "|   00 17TH AV|\n",
      "|   00 17TH AV|\n",
      "|   00 17TH AV|\n",
      "|   00 17TH AV|\n",
      "|   00 17TH AV|\n",
      "|   00 17TH PL|\n",
      "|   00 18TH AV|\n",
      "|   00 18TH AV|\n",
      "|   00 18TH AV|\n",
      "|   00 18TH AV|\n",
      "|   00 18TH AV|\n",
      "|   00 18TH AV|\n",
      "|   00 18TH AV|\n",
      "|   00 18TH AV|\n",
      "+-------------+\n",
      "only showing top 20 rows\n",
      "\n"
     ]
    }
   ],
   "source": [
    "df.select(\"location_name\").show(n=20)"
   ]
  },
  {
   "cell_type": "code",
   "execution_count": 32,
   "metadata": {},
   "outputs": [],
   "source": [
    "w = Window.partitionBy(\"AREA\").orderBy(df[\"location_name\"])\n",
    "df = df.withColumn(\"location_id_pk\", sf.dense_rank().over(w)).drop(\"LOCATION\")"
   ]
  },
  {
   "cell_type": "code",
   "execution_count": 34,
   "metadata": {},
   "outputs": [
    {
     "name": "stdout",
     "output_type": "stream",
     "text": [
      "+---------+----------+----+---------+------+--------------------+--------+--------+------------+---------+--------------------+--------------+--------------------+------+-----------+--------+--------+--------+--------+------------+-------+---------+-------------------+-------------+--------------+\n",
      "|    DR_NO| Date Rptd|AREA|AREA NAME|Crm Cd|         Crm Cd Desc|Vict Age|Vict Sex|Vict Descent|Premis Cd|         Premis Desc|Weapon Used Cd|         Weapon Desc|Status|Status Desc|Crm Cd 1|Crm Cd 2|Crm Cd 3|Crm Cd 4|Cross Street|    LAT|      LON|  DATE AND TIME OCC|location_name|location_id_pk|\n",
      "+---------+----------+----+---------+------+--------------------+--------+--------+------------+---------+--------------------+--------------+--------------------+------+-----------+--------+--------+--------+--------+------------+-------+---------+-------------------+-------------+--------------+\n",
      "|221421172|12/17/2022|  14|  Pacific|   341|THEFT-GRAND ($950...|      29|       F|           W|      501|SINGLE FAMILY DWE...|          NULL|                NULL|    IC|Invest Cont|     341|    NULL|    NULL|    NULL|        NULL|33.9864|-118.4724|12/04/2022 12:00:00|      00 17TH|             1|\n",
      "|201414002|07/19/2020|  14|  Pacific|   510|    VEHICLE - STOLEN|       0|       X|           X|      101|              STREET|          NULL|                NULL|    IC|Invest Cont|     510|    NULL|    NULL|    NULL|        NULL|33.9867|-118.4726|07/18/2020 17:00:00|   00 17TH AV|             2|\n",
      "|201420046|11/09/2020|  14|  Pacific|   310|            BURGLARY|      28|       M|           W|      108|         PARKING LOT|          NULL|                NULL|    IC|Invest Cont|     310|    NULL|    NULL|    NULL|        NULL|33.9867|-118.4727|11/08/2020 19:30:00|   00 17TH AV|             2|\n",
      "|211421884|11/23/2021|  14|  Pacific|   740|VANDALISM - FELON...|      41|       F|           W|      502|MULTI-UNIT DWELLI...|          NULL|                NULL|    IC|Invest Cont|     740|    NULL|    NULL|    NULL|        NULL|33.9867|-118.4727|11/23/2021 00:00:00|   00 17TH AV|             2|\n",
      "|211420351|10/22/2021|  14|  Pacific|   310|            BURGLARY|      31|       M|           B|      502|MULTI-UNIT DWELLI...|          NULL|                NULL|    IC|Invest Cont|     310|    NULL|    NULL|    NULL|        NULL|33.9867|-118.4727|10/17/2021 00:00:00|   00 17TH AV|             2|\n",
      "|211409862|04/17/2021|  14|  Pacific|   420|THEFT FROM MOTOR ...|       0|       X|           X|      108|         PARKING LOT|          NULL|                NULL|    IC|Invest Cont|     420|    NULL|    NULL|    NULL|        NULL|33.9867|-118.4726|04/17/2021 11:15:00|   00 17TH AV|             2|\n",
      "|211415471|07/22/2021|  14|  Pacific|   745|VANDALISM - MISDE...|      49|       F|           A|      101|              STREET|          NULL|                NULL|    IC|Invest Cont|     745|    NULL|    NULL|    NULL|        NULL|33.9867|-118.4727|07/21/2021 19:30:00|   00 17TH AV|             2|\n",
      "|221409015|04/09/2022|  14|  Pacific|   740|VANDALISM - FELON...|      27|       F|           W|      108|         PARKING LOT|          NULL|                NULL|    IC|Invest Cont|     740|    NULL|    NULL|    NULL|        NULL|33.9867|-118.4726|04/09/2022 19:30:00|   00 17TH AV|             2|\n",
      "|221416993|09/27/2022|  14|  Pacific|   440|THEFT PLAIN - PET...|      23|       M|           W|      117|               BEACH|          NULL|                NULL|    IC|Invest Cont|     440|    NULL|    NULL|    NULL|        NULL|33.9867|-118.4727|08/20/2022 15:00:00|   00 17TH AV|             2|\n",
      "|221414581|08/03/2022|  14|  Pacific|   420|THEFT FROM MOTOR ...|       0|       X|           X|      108|         PARKING LOT|          NULL|                NULL|    IC|Invest Cont|     420|    NULL|    NULL|    NULL|        NULL|33.9867|-118.4726|08/03/2022 00:00:00|   00 17TH AV|             2|\n",
      "|231420319|11/06/2023|  14|  Pacific|   745|VANDALISM - MISDE...|      34|       F|           W|      108|         PARKING LOT|          NULL|                NULL|    IC|Invest Cont|     745|    NULL|    NULL|    NULL|        NULL|33.9867|-118.4727|09/23/2023 18:00:00|   00 17TH AV|             2|\n",
      "|211416415|08/09/2021|  14|  Pacific|   745|VANDALISM - MISDE...|      49|       F|           J|      707|      GARAGE/CARPORT|          NULL|                NULL|    IC|Invest Cont|     745|    NULL|    NULL|    NULL|        NULL|33.9864|-118.4724|08/08/2021 21:00:00|   00 17TH PL|             3|\n",
      "|201406379|02/10/2020|  14|  Pacific|   420|THEFT FROM MOTOR ...|       0|       X|           X|      101|              STREET|          NULL|                NULL|    IC|Invest Cont|     420|    NULL|    NULL|    NULL|        NULL| 33.986|-118.4724|02/10/2020 22:00:00|   00 18TH AV|             4|\n",
      "|211423626|12/28/2021|  14|  Pacific|   761|     BRANDISH WEAPON|      53|       M|           B|      117|               BEACH|           102|            HAND GUN|    IC|Invest Cont|     761|    NULL|    NULL|    NULL|        NULL|33.9861|-118.4723|12/28/2021 20:00:00|   00 18TH AV|             4|\n",
      "|231421877|12/16/2023|  14|  Pacific|   510|    VEHICLE - STOLEN|       0|       X|           X|      101|              STREET|          NULL|                NULL|    IC|Invest Cont|     510|    NULL|    NULL|    NULL|        NULL|33.9862|-118.4721|12/16/2023 15:00:00|   00 18TH AV|             4|\n",
      "|211417065|08/22/2021|  14|  Pacific|   745|VANDALISM - MISDE...|      32|       M|           O|      101|              STREET|           500|UNKNOWN WEAPON/OT...|    IC|Invest Cont|     745|    NULL|    NULL|    NULL|        NULL|33.9861|-118.4724|08/22/2021 13:45:00|   00 18TH AV|             4|\n",
      "|211420083|10/17/2021|  14|  Pacific|   480|       BIKE - STOLEN|      26|       M|           W|      707|      GARAGE/CARPORT|          NULL|                NULL|    IC|Invest Cont|     480|    NULL|    NULL|    NULL|        NULL| 33.986|-118.4724|10/17/2021 00:00:00|   00 18TH AV|             4|\n",
      "|221415972|09/01/2022|  14|  Pacific|   230|ASSAULT WITH DEAD...|      37|       M|           H|      102|            SIDEWALK|           302|    BLUNT INSTRUMENT|    AO|Adult Other|     230|    NULL|    NULL|    NULL|        NULL|33.9862|-118.4722|09/01/2022 11:30:00|   00 18TH AV|             4|\n",
      "|221418880|11/13/2022|  14|  Pacific|   956|LETTERS, LEWD  - ...|      28|       M|           W|      502|MULTI-UNIT DWELLI...|          NULL|                NULL|    IC|Invest Cont|     956|    NULL|    NULL|    NULL|        NULL|33.9861|-118.4722|11/08/2022 00:00:00|   00 18TH AV|             4|\n",
      "|221413884|07/21/2022|  14|  Pacific|   510|    VEHICLE - STOLEN|       0|       X|           X|      101|              STREET|          NULL|                NULL|    IC|Invest Cont|     510|    NULL|    NULL|    NULL|        NULL|33.9861|-118.4722|07/21/2022 00:00:00|   00 18TH AV|             4|\n",
      "+---------+----------+----+---------+------+--------------------+--------+--------+------------+---------+--------------------+--------------+--------------------+------+-----------+--------+--------+--------+--------+------------+-------+---------+-------------------+-------------+--------------+\n",
      "only showing top 20 rows\n",
      "\n"
     ]
    }
   ],
   "source": [
    "df.orderBy(sf.asc(\"location_name\")).show()"
   ]
  },
  {
   "cell_type": "code",
   "execution_count": 12,
   "metadata": {},
   "outputs": [],
   "source": [
    "# connect to the database\n",
    "\n",
    "properties = {\n",
    "    \"user\": \"postgres\",\n",
    "    \"password\": \"sopro722!\",\n",
    "    \"driver\": \"org.postgresql.Driver\"\n",
    "}\n",
    "\n",
    "url = \"jdbc:postgresql://localhost:5432/lacrime_db\"\n"
   ]
  },
  {
   "cell_type": "code",
   "execution_count": 13,
   "metadata": {},
   "outputs": [],
   "source": [
    "def insert_data(df, url: str, table: str, properties: dict[str]):\n",
    "    df.repartition(4) \\\n",
    "    .write \\\n",
    "    .mode(\"append\") \\\n",
    "    .format(\"jdbc\") \\\n",
    "    .option(\"url\", url) \\\n",
    "    .option(\"dbtable\", table) \\\n",
    "    .option(\"user\", properties[\"user\"]) \\\n",
    "    .option(\"password\", properties[\"password\"]) \\\n",
    "    .save()"
   ]
  },
  {
   "cell_type": "code",
   "execution_count": 14,
   "metadata": {},
   "outputs": [],
   "source": [
    "# insert weapon into the database\n",
    "\n",
    "df_weapons = df.select(\n",
    "    sf.col(\"Weapon Used Cd\").alias(\"weapon_id_pk\"),\n",
    "    sf.col(\"Weapon Desc\").alias(\"weapon\")\n",
    ") \\\n",
    ".filter(df[\"Weapon Used Cd\"].isNotNull()) \\\n",
    ".dropDuplicates() \\\n",
    ".sort(sf.asc(\"weapon_id_pk\"))"
   ]
  },
  {
   "cell_type": "code",
   "execution_count": 15,
   "metadata": {},
   "outputs": [],
   "source": [
    "df_area = df.select(\n",
    "    sf.col(\"AREA\").alias(\"area_id_pk\"),\n",
    "    sf.col(\"AREA NAME\").alias(\"area_name\")\n",
    ") \\\n",
    ".filter(df[\"AREA\"].isNotNull()) \\\n",
    ".dropDuplicates() \\\n",
    ".orderBy(sf.asc(\"area_id_pk\"))"
   ]
  },
  {
   "cell_type": "code",
   "execution_count": 16,
   "metadata": {},
   "outputs": [],
   "source": [
    "# input the status data into the status table\n",
    "\n",
    "df_status = df.select(\n",
    "    sf.col(\"Status\").alias(\"status_code\"),\n",
    "    sf.col(\"Status Desc\").alias(\"status_desc\")\n",
    ") \\\n",
    ".na.drop(subset=\"status_code\") \\\n",
    ".dropDuplicates() \\\n",
    ".orderBy(sf.asc(\"status_code\")) \n",
    "\n"
   ]
  },
  {
   "cell_type": "code",
   "execution_count": 17,
   "metadata": {},
   "outputs": [],
   "source": [
    "# input the status data into the status table\n",
    "\n",
    "df_premisis = df.select(\n",
    "    sf.col(\"Premis Cd\").alias(\"premisis_id_pk\"),\n",
    "    sf.col(\"Premis Desc\").alias(\"premisis_desc\")\n",
    ") \\\n",
    ".filter(df[\"Premis Cd\"].isNotNull()) \\\n",
    ".dropDuplicates() \\\n",
    ".orderBy(sf.asc(\"premisis_id_pk\"))"
   ]
  },
  {
   "cell_type": "code",
   "execution_count": 18,
   "metadata": {},
   "outputs": [],
   "source": [
    "df_crime = df.select(\n",
    "    sf.col(\"Crm Cd\").alias(\"crime_id_pk\"),\n",
    "    sf.col(\"Crm Cd Desc\").alias(\"crime_desc\")\n",
    ") \\\n",
    ".filter(df[\"Crm Cd\"].isNotNull()) \\\n",
    ".dropDuplicates(subset=[\"crime_id_pk\"]) \\\n",
    ".orderBy(sf.asc(\"crime_id_pk\"))"
   ]
  },
  {
   "cell_type": "code",
   "execution_count": 19,
   "metadata": {},
   "outputs": [],
   "source": [
    "df_location = df.select(\n",
    "    sf.col(\"location_id_pk\"),\n",
    "    sf.col(\"location_name\")\n",
    ") \\\n",
    ".na.drop(subset=\"location_name\") \\\n",
    ".dropDuplicates(subset=[\"location_id_pk\"]) \\\n",
    ".orderBy(sf.asc(\"location_name\"))\n"
   ]
  },
  {
   "cell_type": "code",
   "execution_count": 20,
   "metadata": {},
   "outputs": [],
   "source": [
    "df_report = df.select(\n",
    "    sf.col(\"DR_NO\").alias(\"report_id_pk\"),\n",
    "    sf.to_date(\"Date Rptd\", \"MM/dd/yyyy\").alias(\"date_reported\"),\n",
    "    sf.to_timestamp(\"DATE AND TIME OCC\", \"MM/dd/yyyy HH:mm:ss\").alias(\"date_occured\"),\n",
    "    sf.col(\"Vict Age\").alias(\"victim_age\"),\n",
    "    sf.col(\"Vict Sex\").alias(\"victim_sex\"),\n",
    "    sf.col(\"Vict Descent\").alias(\"victim_decent\"),\n",
    "    sf.col(\"AREA\").alias(\"area_id_fk\"),\n",
    "    sf.col(\"location_id_pk\").alias(\"location_id_fk\"),\n",
    "    sf.col(\"Premis Cd\").alias(\"premisis_id_fk\"),\n",
    "    sf.col(\"Weapon Used Cd\").alias(\"weapon_id_fk\"),\n",
    "    sf.col(\"Status\").alias(\"status_code\"),\n",
    "    sf.col(\"LAT\").alias(\"latitude\"),\n",
    "    sf.col(\"LON\").alias(\"longitude\"),\n",
    ") \\\n",
    ".filter(df[\"DR_NO\"].isNotNull()) \\\n",
    ".dropDuplicates(subset=[\"report_id_pk\"]) \\\n",
    ".repartition(4)"
   ]
  },
  {
   "cell_type": "code",
   "execution_count": 22,
   "metadata": {},
   "outputs": [],
   "source": [
    "df_crime_report = df.dropDuplicates(subset=[\"DR_NO\"]) \\\n",
    ".withColumn('crime_id_fk', sf.explode(sf.array(\"Crm Cd 1\", \"Crm Cd 2\", \"Crm Cd 3\", \"Crm Cd 4\"))) \\\n",
    ".select(\n",
    "    sf.col(\"DR_NO\").alias(\"report_id_fk\"),\n",
    "    sf.col(\"crime_id_fk\")\n",
    ") \\\n",
    ".na.drop(subset=[\"crime_id_fk\"])"
   ]
  },
  {
   "cell_type": "code",
   "execution_count": 23,
   "metadata": {},
   "outputs": [],
   "source": [
    "df_crime_report = df_crime_report.join(df_crime, df_crime_report[\"crime_id_fk\"] == df_crime[\"crime_id_pk\"], \"left\") \\\n",
    ".filter(\"crime_id_pk IS NOT NULL\") \\\n",
    ".drop(\"crime_id_pk\", \"crime_desc\")"
   ]
  },
  {
   "cell_type": "code",
   "execution_count": 35,
   "metadata": {},
   "outputs": [
    {
     "name": "stdout",
     "output_type": "stream",
     "text": [
      "+------------+--------------------+\n",
      "|weapon_id_pk|              weapon|\n",
      "+------------+--------------------+\n",
      "|         218|OTHER CUTTING INS...|\n",
      "|         112|             TOY GUN|\n",
      "|         305|        FIXED OBJECT|\n",
      "|         515|   PHYSICAL PRESENCE|\n",
      "|         125|       RELIC FIREARM|\n",
      "|         119|MAC-10 SEMIAUTOMA...|\n",
      "|         504|         DEMAND NOTE|\n",
      "|         501|         BOMB THREAT|\n",
      "|         503|CAUSTIC CHEMICAL/...|\n",
      "|         221|               GLASS|\n",
      "|         511|       VERBAL THREAT|\n",
      "|         500|UNKNOWN WEAPON/OT...|\n",
      "|         102|            HAND GUN|\n",
      "|         101|            REVOLVER|\n",
      "|         106|     UNKNOWN FIREARM|\n",
      "|         116|     ANTIQUE FIREARM|\n",
      "|         121|HECKLER & KOCH 91...|\n",
      "|         513|            STUN GUN|\n",
      "|         202|         BOWIE KNIFE|\n",
      "|         118|UZI SEMIAUTOMATIC...|\n",
      "+------------+--------------------+\n",
      "only showing top 20 rows\n",
      "\n"
     ]
    }
   ],
   "source": [
    "db_df = spark.read \\\n",
    "    .format(\"jdbc\") \\\n",
    "    .option(\"url\", url) \\\n",
    "    .option(\"dbtable\", \"weapon\") \\\n",
    "    .option(\"user\", properties[\"user\"]) \\\n",
    "    .option(\"password\", properties[\"password\"]) \\\n",
    "    .option(\"driver\", properties[\"driver\"]) \\\n",
    "    .load()\n",
    "\n",
    "len(db_df)\n"
   ]
  }
 ],
 "metadata": {
  "kernelspec": {
   "display_name": "venv",
   "language": "python",
   "name": "python3"
  },
  "language_info": {
   "codemirror_mode": {
    "name": "ipython",
    "version": 3
   },
   "file_extension": ".py",
   "mimetype": "text/x-python",
   "name": "python",
   "nbconvert_exporter": "python",
   "pygments_lexer": "ipython3",
   "version": "3.11.6"
  }
 },
 "nbformat": 4,
 "nbformat_minor": 2
}
